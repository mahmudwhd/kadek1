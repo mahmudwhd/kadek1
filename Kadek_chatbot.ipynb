{
  "cells": [
    {
      "cell_type": "code",
      "execution_count": null,
      "metadata": {
        "id": "-v-UqcFoBc1y"
      },
      "outputs": [],
      "source": [
        "from google.colab import drive\n",
        "drive.mount('/content/drive')"
      ]
    },
    {
      "cell_type": "code",
      "source": [
        "cd /content/drive/MyDrive/Colab Notebooks/ChatBot"
      ],
      "metadata": {
        "colab": {
          "base_uri": "https://localhost:8080/"
        },
        "id": "LizzzgNiElq-",
        "outputId": "82076a42-d9d9-4afb-cf1d-c5e91e1a6429"
      },
      "execution_count": null,
      "outputs": [
        {
          "output_type": "stream",
          "name": "stdout",
          "text": [
            "[Errno 2] No such file or directory: '/content/drive/MyDrive/Colab Notebooks/ChatBot'\n",
            "/content\n"
          ]
        }
      ]
    },
    {
      "cell_type": "code",
      "source": [
        "ls"
      ],
      "metadata": {
        "colab": {
          "base_uri": "https://localhost:8080/"
        },
        "id": "cVu02LqOEoui",
        "outputId": "da5792c5-4107-4c63-9722-ef1e980e54ca"
      },
      "execution_count": null,
      "outputs": [
        {
          "output_type": "stream",
          "name": "stdout",
          "text": [
            "'Dataset Kampus Merdeka.json'   Kadek_chatbot.ipynb\n"
          ]
        }
      ]
    },
    {
      "cell_type": "code",
      "execution_count": null,
      "metadata": {
        "id": "QyUvg2nBBZmK",
        "colab": {
          "base_uri": "https://localhost:8080/",
          "height": 217
        },
        "outputId": "99191c3a-4fa2-4bd3-8634-4fc7a39a107d"
      },
      "outputs": [
        {
          "output_type": "error",
          "ename": "FileNotFoundError",
          "evalue": "ignored",
          "traceback": [
            "\u001b[0;31m---------------------------------------------------------------------------\u001b[0m",
            "\u001b[0;31mFileNotFoundError\u001b[0m                         Traceback (most recent call last)",
            "\u001b[0;32m<ipython-input-10-29fbaf99ea1f>\u001b[0m in \u001b[0;36m<module>\u001b[0;34m()\u001b[0m\n\u001b[1;32m      3\u001b[0m \u001b[0;32mimport\u001b[0m \u001b[0mpandas\u001b[0m \u001b[0;32mas\u001b[0m \u001b[0mpd\u001b[0m\u001b[0;34m\u001b[0m\u001b[0;34m\u001b[0m\u001b[0m\n\u001b[1;32m      4\u001b[0m \u001b[0;34m\u001b[0m\u001b[0m\n\u001b[0;32m----> 5\u001b[0;31m \u001b[0;32mwith\u001b[0m \u001b[0mopen\u001b[0m\u001b[0;34m(\u001b[0m\u001b[0;34m\"Dataset Kampus Merdeka.json\"\u001b[0m\u001b[0;34m)\u001b[0m \u001b[0;32mas\u001b[0m \u001b[0mdata_file\u001b[0m\u001b[0;34m:\u001b[0m\u001b[0;34m\u001b[0m\u001b[0;34m\u001b[0m\u001b[0m\n\u001b[0m\u001b[1;32m      6\u001b[0m     \u001b[0mdata\u001b[0m \u001b[0;34m=\u001b[0m \u001b[0mjson\u001b[0m\u001b[0;34m.\u001b[0m\u001b[0mload\u001b[0m\u001b[0;34m(\u001b[0m\u001b[0mdata_file\u001b[0m\u001b[0;34m)\u001b[0m\u001b[0;34m\u001b[0m\u001b[0;34m\u001b[0m\u001b[0m\n",
            "\u001b[0;31mFileNotFoundError\u001b[0m: [Errno 2] No such file or directory: 'Dataset Kampus Merdeka.json'"
          ]
        }
      ],
      "source": [
        "# prepare dataset\n",
        "import json\n",
        "import pandas as pd\n",
        "\n",
        "with open(\"Dataset Kampus Merdeka.json\") as data_file:\n",
        "    data = json.load(data_file)"
      ]
    },
    {
      "cell_type": "code",
      "execution_count": null,
      "metadata": {
        "id": "0Yqeur2sNx7y"
      },
      "outputs": [],
      "source": [
        "def preprocess_string(string):\n",
        "    string = string.lower()\n",
        "    exclude = set(punctuation)\n",
        "    string = ''.join(ch for ch in string if ch not in exclude)\n",
        "    return string\n",
        "  "
      ]
    },
    {
      "cell_type": "code",
      "execution_count": null,
      "metadata": {
        "id": "HBfby72GN42d"
      },
      "outputs": [],
      "source": [
        "def chat(model):\n",
        "    print(\"Anda akan dihubungkan ke Kadekbot, mohon ditunggu\")\n",
        "    exit = False\n",
        "    while not exit:\n",
        "        inp = input(\"Anda : \")\n",
        "        inp = preprocess_string(inp)\n",
        "        prob = model.predict([inp])\n",
        "        results = le.classes_[prob.argmax()]\n",
        "        if prob.max() < 0.2:\n",
        "            print(\"Bot : Maaf kak, kami tidak mengerti\")\n",
        "        else:\n",
        "            for tg in data['intents']:\n",
        "                if tg['tag'] == results:\n",
        "                    responses = tg['responses']\n",
        "            if results == 'bye':\n",
        "                exit = True\n",
        "                print(\"END CHAT\")\n",
        "            print(f\"Bot : {random.choice(responses)}\")"
      ]
    },
    {
      "cell_type": "code",
      "execution_count": null,
      "metadata": {
        "colab": {
          "base_uri": "https://localhost:8080/",
          "height": 206
        },
        "id": "g34f5i_zBZmN",
        "outputId": "20a6ff4f-e422-459e-b74e-db96e33764da"
      },
      "outputs": [
        {
          "output_type": "execute_result",
          "data": {
            "text/plain": [
              "  text_input   intents                                          responses\n",
              "0      hallo  greeting  [Hai! Kadekbot di sini. Mau tau informasi tent...\n",
              "1        hai  greeting  [Hai! Kadekbot di sini. Mau tau informasi tent...\n",
              "2       halo  greeting  [Hai! Kadekbot di sini. Mau tau informasi tent...\n",
              "3        hei  greeting  [Hai! Kadekbot di sini. Mau tau informasi tent...\n",
              "4         hi  greeting  [Hai! Kadekbot di sini. Mau tau informasi tent..."
            ],
            "text/html": [
              "\n",
              "  <div id=\"df-c3cc08ba-db06-4627-8484-0df572fff0d7\">\n",
              "    <div class=\"colab-df-container\">\n",
              "      <div>\n",
              "<style scoped>\n",
              "    .dataframe tbody tr th:only-of-type {\n",
              "        vertical-align: middle;\n",
              "    }\n",
              "\n",
              "    .dataframe tbody tr th {\n",
              "        vertical-align: top;\n",
              "    }\n",
              "\n",
              "    .dataframe thead th {\n",
              "        text-align: right;\n",
              "    }\n",
              "</style>\n",
              "<table border=\"1\" class=\"dataframe\">\n",
              "  <thead>\n",
              "    <tr style=\"text-align: right;\">\n",
              "      <th></th>\n",
              "      <th>text_input</th>\n",
              "      <th>intents</th>\n",
              "      <th>responses</th>\n",
              "    </tr>\n",
              "  </thead>\n",
              "  <tbody>\n",
              "    <tr>\n",
              "      <th>0</th>\n",
              "      <td>hallo</td>\n",
              "      <td>greeting</td>\n",
              "      <td>[Hai! Kadekbot di sini. Mau tau informasi tent...</td>\n",
              "    </tr>\n",
              "    <tr>\n",
              "      <th>1</th>\n",
              "      <td>hai</td>\n",
              "      <td>greeting</td>\n",
              "      <td>[Hai! Kadekbot di sini. Mau tau informasi tent...</td>\n",
              "    </tr>\n",
              "    <tr>\n",
              "      <th>2</th>\n",
              "      <td>halo</td>\n",
              "      <td>greeting</td>\n",
              "      <td>[Hai! Kadekbot di sini. Mau tau informasi tent...</td>\n",
              "    </tr>\n",
              "    <tr>\n",
              "      <th>3</th>\n",
              "      <td>hei</td>\n",
              "      <td>greeting</td>\n",
              "      <td>[Hai! Kadekbot di sini. Mau tau informasi tent...</td>\n",
              "    </tr>\n",
              "    <tr>\n",
              "      <th>4</th>\n",
              "      <td>hi</td>\n",
              "      <td>greeting</td>\n",
              "      <td>[Hai! Kadekbot di sini. Mau tau informasi tent...</td>\n",
              "    </tr>\n",
              "  </tbody>\n",
              "</table>\n",
              "</div>\n",
              "      <button class=\"colab-df-convert\" onclick=\"convertToInteractive('df-c3cc08ba-db06-4627-8484-0df572fff0d7')\"\n",
              "              title=\"Convert this dataframe to an interactive table.\"\n",
              "              style=\"display:none;\">\n",
              "        \n",
              "  <svg xmlns=\"http://www.w3.org/2000/svg\" height=\"24px\"viewBox=\"0 0 24 24\"\n",
              "       width=\"24px\">\n",
              "    <path d=\"M0 0h24v24H0V0z\" fill=\"none\"/>\n",
              "    <path d=\"M18.56 5.44l.94 2.06.94-2.06 2.06-.94-2.06-.94-.94-2.06-.94 2.06-2.06.94zm-11 1L8.5 8.5l.94-2.06 2.06-.94-2.06-.94L8.5 2.5l-.94 2.06-2.06.94zm10 10l.94 2.06.94-2.06 2.06-.94-2.06-.94-.94-2.06-.94 2.06-2.06.94z\"/><path d=\"M17.41 7.96l-1.37-1.37c-.4-.4-.92-.59-1.43-.59-.52 0-1.04.2-1.43.59L10.3 9.45l-7.72 7.72c-.78.78-.78 2.05 0 2.83L4 21.41c.39.39.9.59 1.41.59.51 0 1.02-.2 1.41-.59l7.78-7.78 2.81-2.81c.8-.78.8-2.07 0-2.86zM5.41 20L4 18.59l7.72-7.72 1.47 1.35L5.41 20z\"/>\n",
              "  </svg>\n",
              "      </button>\n",
              "      \n",
              "  <style>\n",
              "    .colab-df-container {\n",
              "      display:flex;\n",
              "      flex-wrap:wrap;\n",
              "      gap: 12px;\n",
              "    }\n",
              "\n",
              "    .colab-df-convert {\n",
              "      background-color: #E8F0FE;\n",
              "      border: none;\n",
              "      border-radius: 50%;\n",
              "      cursor: pointer;\n",
              "      display: none;\n",
              "      fill: #1967D2;\n",
              "      height: 32px;\n",
              "      padding: 0 0 0 0;\n",
              "      width: 32px;\n",
              "    }\n",
              "\n",
              "    .colab-df-convert:hover {\n",
              "      background-color: #E2EBFA;\n",
              "      box-shadow: 0px 1px 2px rgba(60, 64, 67, 0.3), 0px 1px 3px 1px rgba(60, 64, 67, 0.15);\n",
              "      fill: #174EA6;\n",
              "    }\n",
              "\n",
              "    [theme=dark] .colab-df-convert {\n",
              "      background-color: #3B4455;\n",
              "      fill: #D2E3FC;\n",
              "    }\n",
              "\n",
              "    [theme=dark] .colab-df-convert:hover {\n",
              "      background-color: #434B5C;\n",
              "      box-shadow: 0px 1px 3px 1px rgba(0, 0, 0, 0.15);\n",
              "      filter: drop-shadow(0px 1px 2px rgba(0, 0, 0, 0.3));\n",
              "      fill: #FFFFFF;\n",
              "    }\n",
              "  </style>\n",
              "\n",
              "      <script>\n",
              "        const buttonEl =\n",
              "          document.querySelector('#df-c3cc08ba-db06-4627-8484-0df572fff0d7 button.colab-df-convert');\n",
              "        buttonEl.style.display =\n",
              "          google.colab.kernel.accessAllowed ? 'block' : 'none';\n",
              "\n",
              "        async function convertToInteractive(key) {\n",
              "          const element = document.querySelector('#df-c3cc08ba-db06-4627-8484-0df572fff0d7');\n",
              "          const dataTable =\n",
              "            await google.colab.kernel.invokeFunction('convertToInteractive',\n",
              "                                                     [key], {});\n",
              "          if (!dataTable) return;\n",
              "\n",
              "          const docLinkHtml = 'Like what you see? Visit the ' +\n",
              "            '<a target=\"_blank\" href=https://colab.research.google.com/notebooks/data_table.ipynb>data table notebook</a>'\n",
              "            + ' to learn more about interactive tables.';\n",
              "          element.innerHTML = '';\n",
              "          dataTable['output_type'] = 'display_data';\n",
              "          await google.colab.output.renderOutput(dataTable, element);\n",
              "          const docLink = document.createElement('div');\n",
              "          docLink.innerHTML = docLinkHtml;\n",
              "          element.appendChild(docLink);\n",
              "        }\n",
              "      </script>\n",
              "    </div>\n",
              "  </div>\n",
              "  "
            ]
          },
          "metadata": {},
          "execution_count": 7
        }
      ],
      "source": [
        "text_input = []\n",
        "intents = []\n",
        "responses = []\n",
        "ignore_letters = ['!', '?', ',', '.', '[]']\n",
        "\n",
        "for intent in data['intents']:\n",
        "    for input in intent['input']:\n",
        "        text_input.append(input)\n",
        "        intents.append(intent['tag'])\n",
        "        responses.append(intent['responses'])\n",
        "\n",
        "df = pd.DataFrame({'text_input': text_input,\n",
        "                    'intents': intents,\n",
        "                   \"responses\":responses})\n",
        "\n",
        "df.head()"
      ]
    },
    {
      "cell_type": "code",
      "execution_count": null,
      "metadata": {
        "colab": {
          "base_uri": "https://localhost:8080/"
        },
        "id": "FLEmqmscBZmP",
        "outputId": "e87b954c-f194-4779-85eb-d84b02873d98"
      },
      "outputs": [
        {
          "output_type": "execute_result",
          "data": {
            "text/plain": [
              "greeting                                        15\n",
              "program_kampus_merdeka                          11\n",
              "goodbye                                          9\n",
              "terimakasih                                      5\n",
              "persyaratan_IISMA                                2\n",
              "manfaat_PMMB                                     1\n",
              "periode_dan_pendaftaran_pertukaran_mahasiswa     1\n",
              "periode_dan_pendaftaran_IISMA                    1\n",
              "manfaat_IISMA                                    1\n",
              "mitra_IISMA                                      1\n",
              "penjelasan_pertukaran_mahasiswa                  1\n",
              "persyaratan_pertukaran_mahasiswa                 1\n",
              "manfaat_pertukaran_mahasiswa                     1\n",
              "periode_dan_pendaftaran_PMMB                     1\n",
              "penjelasan_IISMA                                 1\n",
              "persyaratan_pejuang_muda                         1\n",
              "periode_dan_pendaftaran_pejuang_muda             1\n",
              "manfaat_pejuang_muda                             1\n",
              "penjelasan_PMMB                                  1\n",
              "penjelasan_pejuang_muda                          1\n",
              "periode_dan_pendaftaran_kampus_mengajar          1\n",
              "manfaat_kampus_mengajar                          1\n",
              "manfaat_studi_independen                         1\n",
              "penjelasan_kampus_merdeka                        1\n",
              "tujuan_kampus_merdeka                            1\n",
              "persyaratan_kampus_merdeka                       1\n",
              "penjelasan_studi_independen                      1\n",
              "persyaratan_studi_independen                     1\n",
              "periode_dan_pendaftaran_studi_independen         1\n",
              "mitra_studi_independen                           1\n",
              "persyaratan_kampus_mengajar                      1\n",
              "penjelasan_magang                                1\n",
              "persyaratan_magang                               1\n",
              "periode_dan_pendaftaran_magang                   1\n",
              "manfaat_magang                                   1\n",
              "mitra_magang                                     1\n",
              "penjelasan_kampus_mengajar                       1\n",
              "mitra_PMMB                                       1\n",
              "Name: intents, dtype: int64"
            ]
          },
          "metadata": {},
          "execution_count": 8
        }
      ],
      "source": [
        "df.intents.value_counts()"
      ]
    },
    {
      "cell_type": "code",
      "execution_count": null,
      "metadata": {
        "colab": {
          "base_uri": "https://localhost:8080/"
        },
        "id": "Z33CEDxpOF7z",
        "outputId": "0b50f860-a6bc-441f-ec1d-3f9b81c42c5f"
      },
      "outputs": [
        {
          "output_type": "stream",
          "name": "stdout",
          "text": [
            "[nltk_data] Downloading package wordnet to /root/nltk_data...\n",
            "[nltk_data]   Unzipping corpora/wordnet.zip.\n"
          ]
        }
      ],
      "source": [
        "import nltk\n",
        "nltk.download('wordnet')\n",
        "from nltk.stem import WordNetLemmatizer\n",
        "lemmatizer = WordNetLemmatizer()"
      ]
    },
    {
      "cell_type": "code",
      "execution_count": null,
      "metadata": {
        "colab": {
          "base_uri": "https://localhost:8080/"
        },
        "id": "YHmQu4ZwOH60",
        "outputId": "4c7edb96-a48d-4bf2-ce0b-e030ff40f9ce"
      },
      "outputs": [
        {
          "output_type": "stream",
          "name": "stdout",
          "text": [
            "75 responses\n",
            "74 input ['Apa itu IISMA?', 'Apa itu Kampus Mengajar?', 'Apa itu Kampus Merdeka?', 'Apa itu Magang Bersertifikat?', 'Apa itu PMMB?', 'Apa itu Pejuang Muda?', 'Apa itu Pertukaran Mahasiswa Merdeka?', 'Apa itu studi independen?', 'Apa persyaratan mengikuti Kampus Merdeka?', 'Apa saja manfaat apabila mengikuti IISMA?', 'Apa saja manfaat apabila mengikuti Kampus Mengajar?', 'Apa saja manfaat apabila mengikuti Magang Bersertifikat?', 'Apa saja manfaat apabila mengikuti PMMB?', 'Apa saja manfaat apabila mengikuti Pejuang Muda?', 'Apa saja manfaat apabila mengikuti Pertukaran Mahasiswa Merdeka?', 'Apa saja manfaat apabila mengikuti Studi Independen?', 'Apa saja mitra yang tergabung dalam Magang Bersertifikat?', 'Apa saja mitra yang tergabung dalam Studi Independen?', 'Apa saja persyaratan IISMA?', 'Apa saja persyaratan Kampus Mengajar?', 'Apa saja persyaratan Magang Bersertifikat?', 'Apa saja persyaratan Pejuang Muda?', 'Apa saja persyaratan Pertukaran Mahasiswa Merdeka?', 'Apa saja persyaratan Studi Independen?', 'Apa saja program Kampus Merdeka?', 'Apa saja universitas yang tergabung dalam program IISMA?', 'Apa saja universitas yang tergabung dalam program PMMB?', 'Apa tujuan Kampus Merdeka?', 'Bagaimana periode pelaksanaan dan cara mendaftar program IISMA?', 'Bagaimana periode pelaksanaan dan cara mendaftar program Kampus Mengajar?', 'Bagaimana periode pelaksanaan dan cara mendaftar program Magang Bersertifikat?', 'Bagaimana periode pelaksanaan dan cara mendaftar program PMMB?', 'Bagaimana periode pelaksanaan dan cara mendaftar program Pejuang Muda?', 'Bagaimana periode pelaksanaan dan cara mendaftar program Pertukaran Mahasiswa Merdeka?', 'Bagaimana periode pelaksanaan dan cara mendaftar program Studi Independen?', 'Bai', 'Bye', 'Byee', 'Dadah', 'Dah', 'Good bye', 'IISMA', 'Kampus Mengajar', 'Magang', 'Makasih', 'PMMB', 'Pejuang Muda', 'Pertukaran Mahasiswa Merdeka', 'Program Kampus Merdeka BUMN', 'Program Kampus Merdeka Kemendikbud', 'Program Kampus Merdeka Kemensos', 'Sampai jumpa', 'See you', 'Selamat tinggal', 'Studi Independen', 'Terima kasih', 'Terima kasih banyak', 'Thank you', 'Thanks', 'afternoon', 'bro', 'hai', 'hallo', 'halo', 'hei', 'hi', 'hy', 'kawan', 'malam', 'morning', 'pagi', 'siang', 'sis', 'sore']\n",
            "38 unique lemmatized tag ['goodbye', 'greeting', 'manfaat_iisma', 'manfaat_kampus_mengajar', 'manfaat_magang', 'manfaat_pejuang_muda', 'manfaat_pertukaran_mahasiswa', 'manfaat_pmmb', 'manfaat_studi_independen', 'mitra_iisma', 'mitra_magang', 'mitra_pmmb', 'mitra_studi_independen', 'penjelasan_iisma', 'penjelasan_kampus_mengajar', 'penjelasan_kampus_merdeka', 'penjelasan_magang', 'penjelasan_pejuang_muda', 'penjelasan_pertukaran_mahasiswa', 'penjelasan_pmmb', 'penjelasan_studi_independen', 'periode_dan_pendaftaran_iisma', 'periode_dan_pendaftaran_kampus_mengajar', 'periode_dan_pendaftaran_magang', 'periode_dan_pendaftaran_pejuang_muda', 'periode_dan_pendaftaran_pertukaran_mahasiswa', 'periode_dan_pendaftaran_pmmb', 'periode_dan_pendaftaran_studi_independen', 'persyaratan_iisma', 'persyaratan_kampus_mengajar', 'persyaratan_kampus_merdeka', 'persyaratan_magang', 'persyaratan_pejuang_muda', 'persyaratan_pertukaran_mahasiswa', 'persyaratan_studi_independen', 'program_kampus_merdeka', 'terimakasih', 'tujuan_kampus_merdeka']\n"
          ]
        }
      ],
      "source": [
        "# lemmaztize and lower each word and remove duplicates\n",
        "intents = [lemmatizer.lemmatize(w.lower()) for w in intents if w not in ignore_letters]\n",
        "intents = sorted(list(set(intents)))\n",
        "text_input = sorted(list(set(text_input)))\n",
        "print (len(responses), \"responses\")\n",
        "print (len(text_input), \"input\", text_input)\n",
        "print (len(intents), \"unique lemmatized tag\", intents)"
      ]
    },
    {
      "cell_type": "code",
      "execution_count": null,
      "metadata": {
        "id": "IxHx3oC7OK8N",
        "colab": {
          "base_uri": "https://localhost:8080/"
        },
        "outputId": "445bad6e-8875-40eb-864c-2d9cae4e63fb"
      },
      "outputs": [
        {
          "output_type": "stream",
          "name": "stdout",
          "text": [
            "vocab_size : 70\n"
          ]
        }
      ],
      "source": [
        "#tokenize the data\n",
        "from tensorflow.keras.preprocessing.text import Tokenizer\n",
        "tokenizer = Tokenizer(num_words=2000)\n",
        "tokenizer.fit_on_texts(df['text_input'])\n",
        "train = tokenizer.texts_to_sequences(df['text_input'])\n",
        "vocab_size = len(tokenizer.word_index)+1\n",
        "print('vocab_size : {}'.format(vocab_size))\n",
        "\n",
        "#apply padding\n",
        "from tensorflow.keras.preprocessing.sequence import pad_sequences\n",
        "X_train = pad_sequences(train)"
      ]
    },
    {
      "cell_type": "code",
      "execution_count": null,
      "metadata": {
        "id": "EGDQ9Lz_BZmQ"
      },
      "outputs": [],
      "source": [
        "# data cleansing\n",
        "import string\n",
        "\n",
        "# convert lowercase\n",
        "df.text_input = df.text_input.apply(lambda x: x.lower())\n",
        "\n",
        "# remove punctuation\n",
        "exclude = set(string.punctuation)\n",
        "df.text_input = df.text_input.apply(lambda x: ''.join(ch for ch in x if ch not in exclude))"
      ]
    },
    {
      "cell_type": "code",
      "execution_count": null,
      "metadata": {
        "id": "RK-lskADBZmR"
      },
      "outputs": [],
      "source": [
        "# label encoding\n",
        "from sklearn.preprocessing import LabelEncoder\n",
        "from tensorflow.keras.utils import to_categorical\n",
        "\n",
        "le = LabelEncoder()\n",
        "y_train = le.fit_transform(df.intents)\n",
        "y_train = to_categorical(y_train)"
      ]
    },
    {
      "cell_type": "code",
      "execution_count": null,
      "metadata": {
        "id": "xnC3TP9zBZmS"
      },
      "outputs": [],
      "source": [
        "all_vocab = []\n",
        "length = []\n",
        "\n",
        "for idx, row in df.iterrows():\n",
        "    sent = row['text_input']\n",
        "    [all_vocab.append(i) for i in sent.split()]\n",
        "    length.append(len(sent.split()))"
      ]
    },
    {
      "cell_type": "code",
      "execution_count": null,
      "metadata": {
        "colab": {
          "base_uri": "https://localhost:8080/"
        },
        "id": "SyHRW3LvBZmS",
        "outputId": "59827658-cfae-4955-f6b3-5e08f5405254"
      },
      "outputs": [
        {
          "output_type": "execute_result",
          "data": {
            "text/plain": [
              "282"
            ]
          },
          "metadata": {},
          "execution_count": 15
        }
      ],
      "source": [
        "len(all_vocab)"
      ]
    },
    {
      "cell_type": "code",
      "execution_count": null,
      "metadata": {
        "colab": {
          "base_uri": "https://localhost:8080/"
        },
        "id": "Zdf3QenYBZmT",
        "outputId": "2ed093a7-786b-4275-ce26-35ed63dc4e88"
      },
      "outputs": [
        {
          "output_type": "execute_result",
          "data": {
            "text/plain": [
              "10"
            ]
          },
          "metadata": {},
          "execution_count": 16
        }
      ],
      "source": [
        "max(length)"
      ]
    },
    {
      "cell_type": "code",
      "execution_count": null,
      "metadata": {
        "colab": {
          "base_uri": "https://localhost:8080/"
        },
        "id": "r3I5-ZLsBZmT",
        "outputId": "4cee919f-595e-4c07-eec8-a6e3d5222382"
      },
      "outputs": [
        {
          "output_type": "execute_result",
          "data": {
            "text/plain": [
              "69"
            ]
          },
          "metadata": {},
          "execution_count": 17
        }
      ],
      "source": [
        "len(set(all_vocab))"
      ]
    },
    {
      "cell_type": "code",
      "execution_count": null,
      "metadata": {
        "id": "Oh9JU5Q5BZmU"
      },
      "outputs": [],
      "source": [
        "from tensorflow.keras.layers import TextVectorization\n",
        "\n",
        "max_vocab_length = 69\n",
        "max_length = 10\n",
        "\n",
        "text_vectorization = TextVectorization(max_tokens=max_vocab_length,\n",
        "                                       standardize='lower_and_strip_punctuation',\n",
        "                                       split='whitespace',\n",
        "                                       ngrams=None,\n",
        "                                       output_mode='int',\n",
        "                                       output_sequence_length=max_length\n",
        "                                       )\n"
      ]
    },
    {
      "cell_type": "code",
      "execution_count": null,
      "metadata": {
        "id": "YZKIDzPEBZmU"
      },
      "outputs": [],
      "source": [
        "text_vectorization.adapt(df.text_input)"
      ]
    },
    {
      "cell_type": "code",
      "execution_count": null,
      "metadata": {
        "colab": {
          "base_uri": "https://localhost:8080/"
        },
        "id": "9fo9vgPFBZmU",
        "outputId": "d3bd63c2-4f75-4a26-9026-068a839c77c2"
      },
      "outputs": [
        {
          "output_type": "execute_result",
          "data": {
            "text/plain": [
              "['',\n",
              " '[UNK]',\n",
              " 'apa',\n",
              " 'saja',\n",
              " 'program',\n",
              " 'merdeka',\n",
              " 'kampus',\n",
              " 'persyaratan',\n",
              " 'mengikuti',\n",
              " 'itu',\n",
              " 'periode',\n",
              " 'pelaksanaan',\n",
              " 'mendaftar',\n",
              " 'manfaat',\n",
              " 'iisma',\n",
              " 'dan',\n",
              " 'cara',\n",
              " 'bagaimana',\n",
              " 'apabila',\n",
              " 'studi',\n",
              " 'magang',\n",
              " 'independen',\n",
              " 'pmmb',\n",
              " 'pertukaran',\n",
              " 'pejuang',\n",
              " 'muda',\n",
              " 'mengajar',\n",
              " 'mahasiswa',\n",
              " 'bersertifikat',\n",
              " 'yang',\n",
              " 'tergabung',\n",
              " 'dalam',\n",
              " 'you',\n",
              " 'universitas',\n",
              " 'terima',\n",
              " 'mitra',\n",
              " 'kasih',\n",
              " 'bye',\n",
              " 'tujuan',\n",
              " 'tinggal',\n",
              " 'thanks',\n",
              " 'thank',\n",
              " 'sore',\n",
              " 'sis',\n",
              " 'siang',\n",
              " 'selamat',\n",
              " 'see',\n",
              " 'sampai',\n",
              " 'pagi',\n",
              " 'morning',\n",
              " 'malam',\n",
              " 'makasih',\n",
              " 'kemensos',\n",
              " 'kemendikbud',\n",
              " 'kawan',\n",
              " 'jumpa',\n",
              " 'hy',\n",
              " 'hi',\n",
              " 'hei',\n",
              " 'halo',\n",
              " 'hallo',\n",
              " 'hai',\n",
              " 'good',\n",
              " 'dah',\n",
              " 'dadah',\n",
              " 'byee',\n",
              " 'bumn',\n",
              " 'bro',\n",
              " 'banyak']"
            ]
          },
          "metadata": {},
          "execution_count": 20
        }
      ],
      "source": [
        "text_vectorization.get_vocabulary()"
      ]
    },
    {
      "cell_type": "code",
      "execution_count": null,
      "metadata": {
        "colab": {
          "base_uri": "https://localhost:8080/"
        },
        "id": "lIImSCmhBZmV",
        "outputId": "05c5685e-6ff2-4f98-d440-b694578a8a22"
      },
      "outputs": [
        {
          "output_type": "execute_result",
          "data": {
            "text/plain": [
              "<tf.Tensor: shape=(10,), dtype=int64, numpy=array([2, 9, 6, 5, 0, 0, 0, 0, 0, 0])>"
            ]
          },
          "metadata": {},
          "execution_count": 21
        }
      ],
      "source": [
        "text_vectorization('Apa itu Kampus Merdeka?')"
      ]
    },
    {
      "cell_type": "code",
      "execution_count": null,
      "metadata": {
        "colab": {
          "base_uri": "https://localhost:8080/",
          "height": 35
        },
        "id": "LPaL0kHCBZmV",
        "outputId": "eda223ca-804a-42a0-856c-cf6e40f42b0a"
      },
      "outputs": [
        {
          "output_type": "execute_result",
          "data": {
            "text/plain": [
              "''"
            ],
            "application/vnd.google.colaboratory.intrinsic+json": {
              "type": "string"
            }
          },
          "metadata": {},
          "execution_count": 22
        }
      ],
      "source": [
        "text_vectorization.get_vocabulary()[0]"
      ]
    },
    {
      "cell_type": "code",
      "execution_count": null,
      "metadata": {
        "id": "pOqMcC3CBZmW"
      },
      "outputs": [],
      "source": [
        "from tensorflow.keras.layers import Embedding\n",
        "embedding = Embedding(input_dim=max_vocab_length,\n",
        "                      output_dim=100,\n",
        "                      embeddings_initializer=\"uniform\",\n",
        "                      input_length=max_length)"
      ]
    },
    {
      "cell_type": "code",
      "execution_count": null,
      "metadata": {
        "colab": {
          "base_uri": "https://localhost:8080/"
        },
        "id": "dwgDUGlNBZmW",
        "outputId": "18c501cd-0776-4043-9343-2acae12d9595"
      },
      "outputs": [
        {
          "output_type": "execute_result",
          "data": {
            "text/plain": [
              "<tf.Tensor: shape=(1, 22, 100), dtype=float32, numpy=\n",
              "array([[[ 0.0324458 , -0.0319492 , -0.00137997, ...,  0.0210539 ,\n",
              "          0.02299166,  0.0282779 ],\n",
              "        [ 0.03256155, -0.04860206, -0.00965154, ...,  0.04435186,\n",
              "          0.03360486, -0.03681355],\n",
              "        [ 0.04808363,  0.0195342 , -0.04590813, ...,  0.03130461,\n",
              "          0.01360308,  0.00620224],\n",
              "        ...,\n",
              "        [-0.03008989, -0.01659293,  0.02123663, ...,  0.0315851 ,\n",
              "         -0.04615898, -0.03760599],\n",
              "        [-0.03008989, -0.01659293,  0.02123663, ...,  0.0315851 ,\n",
              "         -0.04615898, -0.03760599],\n",
              "        [-0.03008989, -0.01659293,  0.02123663, ...,  0.0315851 ,\n",
              "         -0.04615898, -0.03760599]]], dtype=float32)>"
            ]
          },
          "metadata": {},
          "execution_count": 24
        }
      ],
      "source": [
        "import numpy as np\n",
        "res_embed = embedding(np.array([[2, 9, 6, 5, 0, 0, 0, 0, 0, 0, 0, 0, 0, 0, 0, 0, 0, 0, 0, 0, 0, 0]]))\n",
        "res_embed"
      ]
    },
    {
      "cell_type": "code",
      "execution_count": null,
      "metadata": {
        "id": "jx6righJBZmW"
      },
      "outputs": [],
      "source": [
        "# modelling\n",
        "from tensorflow.keras import Model\n",
        "from tensorflow.keras.layers import Input, Dense, LSTM\n",
        "inputs = Input(shape=(1,), dtype='string')\n",
        "x = text_vectorization(inputs)\n",
        "x = embedding(x)\n",
        "x = LSTM(12)(x)\n",
        "outputs = Dense(38, activation='softmax')(x)\n",
        "model_lstm = Model(inputs, outputs, name=\"LSTM_model\")"
      ]
    },
    {
      "cell_type": "code",
      "execution_count": null,
      "metadata": {
        "id": "MNbDALxgBZmX"
      },
      "outputs": [],
      "source": [
        "# compile model\n",
        "model_lstm.compile(loss='categorical_crossentropy',\n",
        "                   optimizer='adam',\n",
        "                   metrics=[\"accuracy\"])"
      ]
    },
    {
      "cell_type": "code",
      "execution_count": null,
      "metadata": {
        "colab": {
          "base_uri": "https://localhost:8080/"
        },
        "id": "mtnaAkj7BZmX",
        "outputId": "4fc7e5a2-f4bd-49f8-8f3f-4c57c9dd31a3"
      },
      "outputs": [
        {
          "output_type": "execute_result",
          "data": {
            "text/plain": [
              "<keras.callbacks.History at 0x7f8aa954dc10>"
            ]
          },
          "metadata": {},
          "execution_count": 27
        }
      ],
      "source": [
        "model_lstm.fit(df.text_input,\n",
        "               y_train,\n",
        "               epochs=200,\n",
        "               verbose=0)"
      ]
    },
    {
      "cell_type": "code",
      "execution_count": null,
      "metadata": {
        "colab": {
          "base_uri": "https://localhost:8080/"
        },
        "id": "T4Is4FdyBZmX",
        "outputId": "e71d4713-82a3-4aae-bc8f-c364e835b501"
      },
      "outputs": [
        {
          "output_type": "stream",
          "name": "stdout",
          "text": [
            "3/3 [==============================] - 1s 5ms/step - loss: 0.8610 - accuracy: 0.8933\n"
          ]
        },
        {
          "output_type": "execute_result",
          "data": {
            "text/plain": [
              "[0.8609939813613892, 0.8933333158493042]"
            ]
          },
          "metadata": {},
          "execution_count": 28
        }
      ],
      "source": [
        "model_lstm.evaluate(df.text_input, y_train)"
      ]
    },
    {
      "cell_type": "code",
      "execution_count": null,
      "metadata": {
        "colab": {
          "base_uri": "https://localhost:8080/"
        },
        "id": "RetFsICHBZmY",
        "outputId": "3f0ebc06-2940-4c3e-f772-b0433b0bc5f3"
      },
      "outputs": [
        {
          "output_type": "stream",
          "name": "stderr",
          "text": [
            "WARNING:absl:Found untraced functions such as lstm_cell_layer_call_fn, lstm_cell_layer_call_and_return_conditional_losses while saving (showing 2 of 2). These functions will not be directly callable after loading.\n"
          ]
        },
        {
          "output_type": "stream",
          "name": "stdout",
          "text": [
            "INFO:tensorflow:Assets written to: bot_model.tf/assets\n"
          ]
        },
        {
          "output_type": "stream",
          "name": "stderr",
          "text": [
            "INFO:tensorflow:Assets written to: bot_model.tf/assets\n",
            "WARNING:absl:<keras.layers.recurrent.LSTMCell object at 0x7f8aa9711850> has the same name 'LSTMCell' as a built-in Keras object. Consider renaming <class 'keras.layers.recurrent.LSTMCell'> to avoid naming conflicts when loading with `tf.keras.models.load_model`. If renaming is not possible, pass the object in the `custom_objects` parameter of the load function.\n"
          ]
        }
      ],
      "source": [
        "model_lstm.save(\"bot_model.tf\")"
      ]
    },
    {
      "cell_type": "code",
      "execution_count": null,
      "metadata": {
        "id": "dkb-ZysNBZmY"
      },
      "outputs": [],
      "source": [
        "import pickle\n",
        "le_filename = open(\"label_encoder.pickle\", \"wb\")\n",
        "pickle.dump(le, le_filename)\n",
        "le_filename.close()"
      ]
    },
    {
      "cell_type": "code",
      "source": [
        "!unzip \"/content/bot.zip\" -d \"/content/\""
      ],
      "metadata": {
        "id": "4uPCHtwWHRqx",
        "colab": {
          "base_uri": "https://localhost:8080/"
        },
        "outputId": "4558c091-ab24-4c80-9502-4734373f62be"
      },
      "execution_count": null,
      "outputs": [
        {
          "output_type": "stream",
          "name": "stdout",
          "text": [
            "Archive:  /content/bot.zip\n",
            "   creating: /content/bot_model.tf/assets/\n",
            "  inflating: /content/bot_model.tf/saved_model.pb  \n",
            "  inflating: /content/bot_model.tf/keras_metadata.pb  \n",
            "  inflating: /content/bot_model.tf/variables/variables.index  \n",
            "  inflating: /content/bot_model.tf/variables/variables.data-00000-of-00001  \n"
          ]
        }
      ]
    },
    {
      "cell_type": "code",
      "source": [
        "!pip install pyngrok==4.1.1\n",
        "!pip install flask-ngrok\n",
        "!ngrok authtoken '28MpMhvJzX5u3eKxDsCxhv6rYGD_2RCmZfYnBPBmS3LV4eQzZ'\n",
        "from datetime import datetime\n",
        "import pytz"
      ],
      "metadata": {
        "colab": {
          "base_uri": "https://localhost:8080/"
        },
        "id": "fFyLJwxCHi0Q",
        "outputId": "b2c5e898-9769-4c56-f91c-8d9111461df3"
      },
      "execution_count": null,
      "outputs": [
        {
          "output_type": "stream",
          "name": "stdout",
          "text": [
            "Looking in indexes: https://pypi.org/simple, https://us-python.pkg.dev/colab-wheels/public/simple/\n",
            "Requirement already satisfied: pyngrok==4.1.1 in /usr/local/lib/python3.7/dist-packages (4.1.1)\n",
            "Requirement already satisfied: future in /usr/local/lib/python3.7/dist-packages (from pyngrok==4.1.1) (0.16.0)\n",
            "Requirement already satisfied: PyYAML in /usr/local/lib/python3.7/dist-packages (from pyngrok==4.1.1) (3.13)\n",
            "Looking in indexes: https://pypi.org/simple, https://us-python.pkg.dev/colab-wheels/public/simple/\n",
            "Requirement already satisfied: flask-ngrok in /usr/local/lib/python3.7/dist-packages (0.0.25)\n",
            "Requirement already satisfied: Flask>=0.8 in /usr/local/lib/python3.7/dist-packages (from flask-ngrok) (1.1.4)\n",
            "Requirement already satisfied: requests in /usr/local/lib/python3.7/dist-packages (from flask-ngrok) (2.23.0)\n",
            "Requirement already satisfied: Werkzeug<2.0,>=0.15 in /usr/local/lib/python3.7/dist-packages (from Flask>=0.8->flask-ngrok) (1.0.1)\n",
            "Requirement already satisfied: Jinja2<3.0,>=2.10.1 in /usr/local/lib/python3.7/dist-packages (from Flask>=0.8->flask-ngrok) (2.11.3)\n",
            "Requirement already satisfied: click<8.0,>=5.1 in /usr/local/lib/python3.7/dist-packages (from Flask>=0.8->flask-ngrok) (7.1.2)\n",
            "Requirement already satisfied: itsdangerous<2.0,>=0.24 in /usr/local/lib/python3.7/dist-packages (from Flask>=0.8->flask-ngrok) (1.1.0)\n",
            "Requirement already satisfied: MarkupSafe>=0.23 in /usr/local/lib/python3.7/dist-packages (from Jinja2<3.0,>=2.10.1->Flask>=0.8->flask-ngrok) (2.0.1)\n",
            "Requirement already satisfied: certifi>=2017.4.17 in /usr/local/lib/python3.7/dist-packages (from requests->flask-ngrok) (2022.5.18.1)\n",
            "Requirement already satisfied: chardet<4,>=3.0.2 in /usr/local/lib/python3.7/dist-packages (from requests->flask-ngrok) (3.0.4)\n",
            "Requirement already satisfied: urllib3!=1.25.0,!=1.25.1,<1.26,>=1.21.1 in /usr/local/lib/python3.7/dist-packages (from requests->flask-ngrok) (1.24.3)\n",
            "Requirement already satisfied: idna<3,>=2.5 in /usr/local/lib/python3.7/dist-packages (from requests->flask-ngrok) (2.10)\n",
            "Authtoken saved to configuration file: /root/.ngrok2/ngrok.yml\n"
          ]
        }
      ]
    },
    {
      "cell_type": "code",
      "source": [
        "import time\n",
        "from flask import Flask, request, render_template, send_from_directory\n",
        "from flask_ngrok import run_with_ngrok\n",
        "\n",
        "with open(\"Dataset Kampus Merdeka.json\") as data_file:\n",
        "    data = json.load(data_file)\n",
        "model = load_model('bot_model.tf')\n",
        "le_filename = open(\"label_encoder.pickle\", \"rb\")\n",
        "le = pickle.load(le_filename)\n",
        "le_filename.close()\n",
        "\n",
        "\n",
        "def preprocess_string(string):\n",
        "    string = string.lower()\n",
        "    exclude = set(punctuation)\n",
        "    string = ''.join(ch for ch in string if ch not in exclude)\n",
        "    return string\n",
        "\n",
        "def chat(model, input_data):\n",
        "    exit = False\n",
        "    while not exit:\n",
        "        inp = input_data\n",
        "        inp = preprocess_string(inp)\n",
        "        bot = \"\"\n",
        "        prob = model.predict([inp])\n",
        "        results = le.classes_[prob.argmax()]\n",
        "        if prob.max() < 0.2:\n",
        "            bot = \"Maaf kak, aku ga ngerti\"\n",
        "        else:\n",
        "            for tg in data['intents']:\n",
        "                if tg['tag'] == results:\n",
        "                    responses = tg['responses']\n",
        "            if results == 'bye':\n",
        "                exit = True\n",
        "                print(\"END CHAT\")\n",
        "            bot = f\"{random.choice(responses)}\"\n",
        "        return bot\n",
        "\n",
        "app = Flask(__name__, template_folder='/content')\n",
        "# The absolute path of the directory containing PDF files for users to download\n",
        "app.config[\"CLIENT_PDF\"] = \"/content\"\n",
        "resultChat = []\n",
        "resultBot = []\n",
        "resultTime = []\n",
        "now = datetime.now(pytz.timezone('Asia/Jakarta'))\n",
        "time = now.strftime(\"%I:%M:%S %p %Z %a, %d %b %Y\")\n",
        "resultTime.append(time)\n",
        "run_with_ngrok(app)   \n",
        "@app.route(\"/\")\n",
        "def home():\n",
        "    resultChat.clear()\n",
        "    resultBot.clear()\n",
        "    resultTime.clear()\n",
        "    now = datetime.now(pytz.timezone('Asia/Jakarta'))\n",
        "    time = now.strftime(\"%I:%M:%S %p %Z %a, %d %b %Y\")\n",
        "    resultTime.append(time)\n",
        "    return render_template('index.html', len=0, time=resultTime)\n",
        "@app.route(\"/predict\", methods=['post'])\n",
        "def predict():\n",
        "    dataChat = request.form['input']\n",
        "    now = datetime.now(pytz.timezone('Asia/Jakarta'))\n",
        "    time = now.strftime(\"%I:%M:%S %p %Z %a, %d %b %Y\")\n",
        "    resultTime.append(time)\n",
        "    print(dataChat)\n",
        "    resultChat.append(dataChat)\n",
        "    resultBot.append(chat(model, dataChat))\n",
        "    return render_template('index.html', len = len(resultChat), chat = resultChat, bot=resultBot, time=resultTime)\n",
        "app.run()"
      ],
      "metadata": {
        "colab": {
          "base_uri": "https://localhost:8080/"
        },
        "id": "uzxD4llHHygP",
        "outputId": "e46c279d-f335-48c6-a43c-7122d87e99df"
      },
      "execution_count": null,
      "outputs": [
        {
          "output_type": "stream",
          "name": "stdout",
          "text": [
            " * Serving Flask app \"__main__\" (lazy loading)\n",
            " * Environment: production\n",
            "\u001b[31m   WARNING: This is a development server. Do not use it in a production deployment.\u001b[0m\n",
            "\u001b[2m   Use a production WSGI server instead.\u001b[0m\n",
            " * Debug mode: off\n"
          ]
        },
        {
          "output_type": "stream",
          "name": "stderr",
          "text": [
            " * Running on http://127.0.0.1:5000/ (Press CTRL+C to quit)\n"
          ]
        },
        {
          "output_type": "stream",
          "name": "stdout",
          "text": [
            " * Running on http://b871-34-86-219-88.ngrok.io\n",
            " * Traffic stats available on http://127.0.0.1:4040\n"
          ]
        },
        {
          "output_type": "stream",
          "name": "stderr",
          "text": [
            "127.0.0.1 - - [12/Jun/2022 03:31:41] \"\u001b[37mGET / HTTP/1.1\u001b[0m\" 200 -\n",
            "127.0.0.1 - - [12/Jun/2022 03:31:42] \"\u001b[33mGET /static/https://ajax.googleapis.com/ajax/libs/jquery/3.3.1/jquery.min.js HTTP/1.1\u001b[0m\" 404 -\n",
            "127.0.0.1 - - [12/Jun/2022 03:31:42] \"\u001b[33mGET /assets/css/style.css HTTP/1.1\u001b[0m\" 404 -\n",
            "127.0.0.1 - - [12/Jun/2022 03:31:42] \"\u001b[33mGET /static/https://cdnjs.cloudflare.com/ajax/libs/malihu-custom-scrollbar-plugin/3.1.5/jquery.mCustomScrollbar.min.js HTTP/1.1\u001b[0m\" 404 -\n",
            "127.0.0.1 - - [12/Jun/2022 03:31:45] \"\u001b[33mGET /favicon.ico HTTP/1.1\u001b[0m\" 404 -\n"
          ]
        },
        {
          "output_type": "stream",
          "name": "stdout",
          "text": [
            "halo\n"
          ]
        },
        {
          "output_type": "stream",
          "name": "stderr",
          "text": [
            "127.0.0.1 - - [12/Jun/2022 03:31:48] \"\u001b[37mPOST /predict HTTP/1.1\u001b[0m\" 200 -\n",
            "127.0.0.1 - - [12/Jun/2022 03:31:49] \"\u001b[33mGET /assets/css/style.css HTTP/1.1\u001b[0m\" 404 -\n",
            "127.0.0.1 - - [12/Jun/2022 03:31:49] \"\u001b[33mGET /static/https://cdnjs.cloudflare.com/ajax/libs/malihu-custom-scrollbar-plugin/3.1.5/jquery.mCustomScrollbar.min.js HTTP/1.1\u001b[0m\" 404 -\n",
            "127.0.0.1 - - [12/Jun/2022 03:31:49] \"\u001b[33mGET /static/https://ajax.googleapis.com/ajax/libs/jquery/3.3.1/jquery.min.js HTTP/1.1\u001b[0m\" 404 -\n",
            "127.0.0.1 - - [12/Jun/2022 03:31:55] \"\u001b[37mGET / HTTP/1.1\u001b[0m\" 200 -\n",
            "127.0.0.1 - - [12/Jun/2022 03:31:55] \"\u001b[33mGET /static/https://ajax.googleapis.com/ajax/libs/jquery/3.3.1/jquery.min.js HTTP/1.1\u001b[0m\" 404 -\n",
            "127.0.0.1 - - [12/Jun/2022 03:31:55] \"\u001b[33mGET /assets/css/style.css HTTP/1.1\u001b[0m\" 404 -\n",
            "127.0.0.1 - - [12/Jun/2022 03:31:55] \"\u001b[33mGET /static/https://cdnjs.cloudflare.com/ajax/libs/malihu-custom-scrollbar-plugin/3.1.5/jquery.mCustomScrollbar.min.js HTTP/1.1\u001b[0m\" 404 -\n",
            "127.0.0.1 - - [12/Jun/2022 03:32:01] \"\u001b[37mPOST /predict HTTP/1.1\u001b[0m\" 200 -\n"
          ]
        },
        {
          "output_type": "stream",
          "name": "stdout",
          "text": [
            "ba\r\n",
            "\n"
          ]
        },
        {
          "output_type": "stream",
          "name": "stderr",
          "text": [
            "127.0.0.1 - - [12/Jun/2022 03:32:01] \"\u001b[33mGET /static/https://ajax.googleapis.com/ajax/libs/jquery/3.3.1/jquery.min.js HTTP/1.1\u001b[0m\" 404 -\n",
            "127.0.0.1 - - [12/Jun/2022 03:32:01] \"\u001b[33mGET /assets/css/style.css HTTP/1.1\u001b[0m\" 404 -\n",
            "127.0.0.1 - - [12/Jun/2022 03:32:01] \"\u001b[33mGET /static/https://cdnjs.cloudflare.com/ajax/libs/malihu-custom-scrollbar-plugin/3.1.5/jquery.mCustomScrollbar.min.js HTTP/1.1\u001b[0m\" 404 -\n"
          ]
        }
      ]
    },
    {
      "cell_type": "code",
      "source": [
        "pytz.all_timezones"
      ],
      "metadata": {
        "colab": {
          "base_uri": "https://localhost:8080/"
        },
        "id": "6_BgPLyg05ZJ",
        "outputId": "fcd63fd3-8622-422c-95d9-3e1e3344231b"
      },
      "execution_count": null,
      "outputs": [
        {
          "output_type": "execute_result",
          "data": {
            "text/plain": [
              "['Africa/Abidjan',\n",
              " 'Africa/Accra',\n",
              " 'Africa/Addis_Ababa',\n",
              " 'Africa/Algiers',\n",
              " 'Africa/Asmara',\n",
              " 'Africa/Asmera',\n",
              " 'Africa/Bamako',\n",
              " 'Africa/Bangui',\n",
              " 'Africa/Banjul',\n",
              " 'Africa/Bissau',\n",
              " 'Africa/Blantyre',\n",
              " 'Africa/Brazzaville',\n",
              " 'Africa/Bujumbura',\n",
              " 'Africa/Cairo',\n",
              " 'Africa/Casablanca',\n",
              " 'Africa/Ceuta',\n",
              " 'Africa/Conakry',\n",
              " 'Africa/Dakar',\n",
              " 'Africa/Dar_es_Salaam',\n",
              " 'Africa/Djibouti',\n",
              " 'Africa/Douala',\n",
              " 'Africa/El_Aaiun',\n",
              " 'Africa/Freetown',\n",
              " 'Africa/Gaborone',\n",
              " 'Africa/Harare',\n",
              " 'Africa/Johannesburg',\n",
              " 'Africa/Juba',\n",
              " 'Africa/Kampala',\n",
              " 'Africa/Khartoum',\n",
              " 'Africa/Kigali',\n",
              " 'Africa/Kinshasa',\n",
              " 'Africa/Lagos',\n",
              " 'Africa/Libreville',\n",
              " 'Africa/Lome',\n",
              " 'Africa/Luanda',\n",
              " 'Africa/Lubumbashi',\n",
              " 'Africa/Lusaka',\n",
              " 'Africa/Malabo',\n",
              " 'Africa/Maputo',\n",
              " 'Africa/Maseru',\n",
              " 'Africa/Mbabane',\n",
              " 'Africa/Mogadishu',\n",
              " 'Africa/Monrovia',\n",
              " 'Africa/Nairobi',\n",
              " 'Africa/Ndjamena',\n",
              " 'Africa/Niamey',\n",
              " 'Africa/Nouakchott',\n",
              " 'Africa/Ouagadougou',\n",
              " 'Africa/Porto-Novo',\n",
              " 'Africa/Sao_Tome',\n",
              " 'Africa/Timbuktu',\n",
              " 'Africa/Tripoli',\n",
              " 'Africa/Tunis',\n",
              " 'Africa/Windhoek',\n",
              " 'America/Adak',\n",
              " 'America/Anchorage',\n",
              " 'America/Anguilla',\n",
              " 'America/Antigua',\n",
              " 'America/Araguaina',\n",
              " 'America/Argentina/Buenos_Aires',\n",
              " 'America/Argentina/Catamarca',\n",
              " 'America/Argentina/ComodRivadavia',\n",
              " 'America/Argentina/Cordoba',\n",
              " 'America/Argentina/Jujuy',\n",
              " 'America/Argentina/La_Rioja',\n",
              " 'America/Argentina/Mendoza',\n",
              " 'America/Argentina/Rio_Gallegos',\n",
              " 'America/Argentina/Salta',\n",
              " 'America/Argentina/San_Juan',\n",
              " 'America/Argentina/San_Luis',\n",
              " 'America/Argentina/Tucuman',\n",
              " 'America/Argentina/Ushuaia',\n",
              " 'America/Aruba',\n",
              " 'America/Asuncion',\n",
              " 'America/Atikokan',\n",
              " 'America/Atka',\n",
              " 'America/Bahia',\n",
              " 'America/Bahia_Banderas',\n",
              " 'America/Barbados',\n",
              " 'America/Belem',\n",
              " 'America/Belize',\n",
              " 'America/Blanc-Sablon',\n",
              " 'America/Boa_Vista',\n",
              " 'America/Bogota',\n",
              " 'America/Boise',\n",
              " 'America/Buenos_Aires',\n",
              " 'America/Cambridge_Bay',\n",
              " 'America/Campo_Grande',\n",
              " 'America/Cancun',\n",
              " 'America/Caracas',\n",
              " 'America/Catamarca',\n",
              " 'America/Cayenne',\n",
              " 'America/Cayman',\n",
              " 'America/Chicago',\n",
              " 'America/Chihuahua',\n",
              " 'America/Coral_Harbour',\n",
              " 'America/Cordoba',\n",
              " 'America/Costa_Rica',\n",
              " 'America/Creston',\n",
              " 'America/Cuiaba',\n",
              " 'America/Curacao',\n",
              " 'America/Danmarkshavn',\n",
              " 'America/Dawson',\n",
              " 'America/Dawson_Creek',\n",
              " 'America/Denver',\n",
              " 'America/Detroit',\n",
              " 'America/Dominica',\n",
              " 'America/Edmonton',\n",
              " 'America/Eirunepe',\n",
              " 'America/El_Salvador',\n",
              " 'America/Ensenada',\n",
              " 'America/Fort_Nelson',\n",
              " 'America/Fort_Wayne',\n",
              " 'America/Fortaleza',\n",
              " 'America/Glace_Bay',\n",
              " 'America/Godthab',\n",
              " 'America/Goose_Bay',\n",
              " 'America/Grand_Turk',\n",
              " 'America/Grenada',\n",
              " 'America/Guadeloupe',\n",
              " 'America/Guatemala',\n",
              " 'America/Guayaquil',\n",
              " 'America/Guyana',\n",
              " 'America/Halifax',\n",
              " 'America/Havana',\n",
              " 'America/Hermosillo',\n",
              " 'America/Indiana/Indianapolis',\n",
              " 'America/Indiana/Knox',\n",
              " 'America/Indiana/Marengo',\n",
              " 'America/Indiana/Petersburg',\n",
              " 'America/Indiana/Tell_City',\n",
              " 'America/Indiana/Vevay',\n",
              " 'America/Indiana/Vincennes',\n",
              " 'America/Indiana/Winamac',\n",
              " 'America/Indianapolis',\n",
              " 'America/Inuvik',\n",
              " 'America/Iqaluit',\n",
              " 'America/Jamaica',\n",
              " 'America/Jujuy',\n",
              " 'America/Juneau',\n",
              " 'America/Kentucky/Louisville',\n",
              " 'America/Kentucky/Monticello',\n",
              " 'America/Knox_IN',\n",
              " 'America/Kralendijk',\n",
              " 'America/La_Paz',\n",
              " 'America/Lima',\n",
              " 'America/Los_Angeles',\n",
              " 'America/Louisville',\n",
              " 'America/Lower_Princes',\n",
              " 'America/Maceio',\n",
              " 'America/Managua',\n",
              " 'America/Manaus',\n",
              " 'America/Marigot',\n",
              " 'America/Martinique',\n",
              " 'America/Matamoros',\n",
              " 'America/Mazatlan',\n",
              " 'America/Mendoza',\n",
              " 'America/Menominee',\n",
              " 'America/Merida',\n",
              " 'America/Metlakatla',\n",
              " 'America/Mexico_City',\n",
              " 'America/Miquelon',\n",
              " 'America/Moncton',\n",
              " 'America/Monterrey',\n",
              " 'America/Montevideo',\n",
              " 'America/Montreal',\n",
              " 'America/Montserrat',\n",
              " 'America/Nassau',\n",
              " 'America/New_York',\n",
              " 'America/Nipigon',\n",
              " 'America/Nome',\n",
              " 'America/Noronha',\n",
              " 'America/North_Dakota/Beulah',\n",
              " 'America/North_Dakota/Center',\n",
              " 'America/North_Dakota/New_Salem',\n",
              " 'America/Nuuk',\n",
              " 'America/Ojinaga',\n",
              " 'America/Panama',\n",
              " 'America/Pangnirtung',\n",
              " 'America/Paramaribo',\n",
              " 'America/Phoenix',\n",
              " 'America/Port-au-Prince',\n",
              " 'America/Port_of_Spain',\n",
              " 'America/Porto_Acre',\n",
              " 'America/Porto_Velho',\n",
              " 'America/Puerto_Rico',\n",
              " 'America/Punta_Arenas',\n",
              " 'America/Rainy_River',\n",
              " 'America/Rankin_Inlet',\n",
              " 'America/Recife',\n",
              " 'America/Regina',\n",
              " 'America/Resolute',\n",
              " 'America/Rio_Branco',\n",
              " 'America/Rosario',\n",
              " 'America/Santa_Isabel',\n",
              " 'America/Santarem',\n",
              " 'America/Santiago',\n",
              " 'America/Santo_Domingo',\n",
              " 'America/Sao_Paulo',\n",
              " 'America/Scoresbysund',\n",
              " 'America/Shiprock',\n",
              " 'America/Sitka',\n",
              " 'America/St_Barthelemy',\n",
              " 'America/St_Johns',\n",
              " 'America/St_Kitts',\n",
              " 'America/St_Lucia',\n",
              " 'America/St_Thomas',\n",
              " 'America/St_Vincent',\n",
              " 'America/Swift_Current',\n",
              " 'America/Tegucigalpa',\n",
              " 'America/Thule',\n",
              " 'America/Thunder_Bay',\n",
              " 'America/Tijuana',\n",
              " 'America/Toronto',\n",
              " 'America/Tortola',\n",
              " 'America/Vancouver',\n",
              " 'America/Virgin',\n",
              " 'America/Whitehorse',\n",
              " 'America/Winnipeg',\n",
              " 'America/Yakutat',\n",
              " 'America/Yellowknife',\n",
              " 'Antarctica/Casey',\n",
              " 'Antarctica/Davis',\n",
              " 'Antarctica/DumontDUrville',\n",
              " 'Antarctica/Macquarie',\n",
              " 'Antarctica/Mawson',\n",
              " 'Antarctica/McMurdo',\n",
              " 'Antarctica/Palmer',\n",
              " 'Antarctica/Rothera',\n",
              " 'Antarctica/South_Pole',\n",
              " 'Antarctica/Syowa',\n",
              " 'Antarctica/Troll',\n",
              " 'Antarctica/Vostok',\n",
              " 'Arctic/Longyearbyen',\n",
              " 'Asia/Aden',\n",
              " 'Asia/Almaty',\n",
              " 'Asia/Amman',\n",
              " 'Asia/Anadyr',\n",
              " 'Asia/Aqtau',\n",
              " 'Asia/Aqtobe',\n",
              " 'Asia/Ashgabat',\n",
              " 'Asia/Ashkhabad',\n",
              " 'Asia/Atyrau',\n",
              " 'Asia/Baghdad',\n",
              " 'Asia/Bahrain',\n",
              " 'Asia/Baku',\n",
              " 'Asia/Bangkok',\n",
              " 'Asia/Barnaul',\n",
              " 'Asia/Beirut',\n",
              " 'Asia/Bishkek',\n",
              " 'Asia/Brunei',\n",
              " 'Asia/Calcutta',\n",
              " 'Asia/Chita',\n",
              " 'Asia/Choibalsan',\n",
              " 'Asia/Chongqing',\n",
              " 'Asia/Chungking',\n",
              " 'Asia/Colombo',\n",
              " 'Asia/Dacca',\n",
              " 'Asia/Damascus',\n",
              " 'Asia/Dhaka',\n",
              " 'Asia/Dili',\n",
              " 'Asia/Dubai',\n",
              " 'Asia/Dushanbe',\n",
              " 'Asia/Famagusta',\n",
              " 'Asia/Gaza',\n",
              " 'Asia/Harbin',\n",
              " 'Asia/Hebron',\n",
              " 'Asia/Ho_Chi_Minh',\n",
              " 'Asia/Hong_Kong',\n",
              " 'Asia/Hovd',\n",
              " 'Asia/Irkutsk',\n",
              " 'Asia/Istanbul',\n",
              " 'Asia/Jakarta',\n",
              " 'Asia/Jayapura',\n",
              " 'Asia/Jerusalem',\n",
              " 'Asia/Kabul',\n",
              " 'Asia/Kamchatka',\n",
              " 'Asia/Karachi',\n",
              " 'Asia/Kashgar',\n",
              " 'Asia/Kathmandu',\n",
              " 'Asia/Katmandu',\n",
              " 'Asia/Khandyga',\n",
              " 'Asia/Kolkata',\n",
              " 'Asia/Krasnoyarsk',\n",
              " 'Asia/Kuala_Lumpur',\n",
              " 'Asia/Kuching',\n",
              " 'Asia/Kuwait',\n",
              " 'Asia/Macao',\n",
              " 'Asia/Macau',\n",
              " 'Asia/Magadan',\n",
              " 'Asia/Makassar',\n",
              " 'Asia/Manila',\n",
              " 'Asia/Muscat',\n",
              " 'Asia/Nicosia',\n",
              " 'Asia/Novokuznetsk',\n",
              " 'Asia/Novosibirsk',\n",
              " 'Asia/Omsk',\n",
              " 'Asia/Oral',\n",
              " 'Asia/Phnom_Penh',\n",
              " 'Asia/Pontianak',\n",
              " 'Asia/Pyongyang',\n",
              " 'Asia/Qatar',\n",
              " 'Asia/Qostanay',\n",
              " 'Asia/Qyzylorda',\n",
              " 'Asia/Rangoon',\n",
              " 'Asia/Riyadh',\n",
              " 'Asia/Saigon',\n",
              " 'Asia/Sakhalin',\n",
              " 'Asia/Samarkand',\n",
              " 'Asia/Seoul',\n",
              " 'Asia/Shanghai',\n",
              " 'Asia/Singapore',\n",
              " 'Asia/Srednekolymsk',\n",
              " 'Asia/Taipei',\n",
              " 'Asia/Tashkent',\n",
              " 'Asia/Tbilisi',\n",
              " 'Asia/Tehran',\n",
              " 'Asia/Tel_Aviv',\n",
              " 'Asia/Thimbu',\n",
              " 'Asia/Thimphu',\n",
              " 'Asia/Tokyo',\n",
              " 'Asia/Tomsk',\n",
              " 'Asia/Ujung_Pandang',\n",
              " 'Asia/Ulaanbaatar',\n",
              " 'Asia/Ulan_Bator',\n",
              " 'Asia/Urumqi',\n",
              " 'Asia/Ust-Nera',\n",
              " 'Asia/Vientiane',\n",
              " 'Asia/Vladivostok',\n",
              " 'Asia/Yakutsk',\n",
              " 'Asia/Yangon',\n",
              " 'Asia/Yekaterinburg',\n",
              " 'Asia/Yerevan',\n",
              " 'Atlantic/Azores',\n",
              " 'Atlantic/Bermuda',\n",
              " 'Atlantic/Canary',\n",
              " 'Atlantic/Cape_Verde',\n",
              " 'Atlantic/Faeroe',\n",
              " 'Atlantic/Faroe',\n",
              " 'Atlantic/Jan_Mayen',\n",
              " 'Atlantic/Madeira',\n",
              " 'Atlantic/Reykjavik',\n",
              " 'Atlantic/South_Georgia',\n",
              " 'Atlantic/St_Helena',\n",
              " 'Atlantic/Stanley',\n",
              " 'Australia/ACT',\n",
              " 'Australia/Adelaide',\n",
              " 'Australia/Brisbane',\n",
              " 'Australia/Broken_Hill',\n",
              " 'Australia/Canberra',\n",
              " 'Australia/Currie',\n",
              " 'Australia/Darwin',\n",
              " 'Australia/Eucla',\n",
              " 'Australia/Hobart',\n",
              " 'Australia/LHI',\n",
              " 'Australia/Lindeman',\n",
              " 'Australia/Lord_Howe',\n",
              " 'Australia/Melbourne',\n",
              " 'Australia/NSW',\n",
              " 'Australia/North',\n",
              " 'Australia/Perth',\n",
              " 'Australia/Queensland',\n",
              " 'Australia/South',\n",
              " 'Australia/Sydney',\n",
              " 'Australia/Tasmania',\n",
              " 'Australia/Victoria',\n",
              " 'Australia/West',\n",
              " 'Australia/Yancowinna',\n",
              " 'Brazil/Acre',\n",
              " 'Brazil/DeNoronha',\n",
              " 'Brazil/East',\n",
              " 'Brazil/West',\n",
              " 'CET',\n",
              " 'CST6CDT',\n",
              " 'Canada/Atlantic',\n",
              " 'Canada/Central',\n",
              " 'Canada/Eastern',\n",
              " 'Canada/Mountain',\n",
              " 'Canada/Newfoundland',\n",
              " 'Canada/Pacific',\n",
              " 'Canada/Saskatchewan',\n",
              " 'Canada/Yukon',\n",
              " 'Chile/Continental',\n",
              " 'Chile/EasterIsland',\n",
              " 'Cuba',\n",
              " 'EET',\n",
              " 'EST',\n",
              " 'EST5EDT',\n",
              " 'Egypt',\n",
              " 'Eire',\n",
              " 'Etc/GMT',\n",
              " 'Etc/GMT+0',\n",
              " 'Etc/GMT+1',\n",
              " 'Etc/GMT+10',\n",
              " 'Etc/GMT+11',\n",
              " 'Etc/GMT+12',\n",
              " 'Etc/GMT+2',\n",
              " 'Etc/GMT+3',\n",
              " 'Etc/GMT+4',\n",
              " 'Etc/GMT+5',\n",
              " 'Etc/GMT+6',\n",
              " 'Etc/GMT+7',\n",
              " 'Etc/GMT+8',\n",
              " 'Etc/GMT+9',\n",
              " 'Etc/GMT-0',\n",
              " 'Etc/GMT-1',\n",
              " 'Etc/GMT-10',\n",
              " 'Etc/GMT-11',\n",
              " 'Etc/GMT-12',\n",
              " 'Etc/GMT-13',\n",
              " 'Etc/GMT-14',\n",
              " 'Etc/GMT-2',\n",
              " 'Etc/GMT-3',\n",
              " 'Etc/GMT-4',\n",
              " 'Etc/GMT-5',\n",
              " 'Etc/GMT-6',\n",
              " 'Etc/GMT-7',\n",
              " 'Etc/GMT-8',\n",
              " 'Etc/GMT-9',\n",
              " 'Etc/GMT0',\n",
              " 'Etc/Greenwich',\n",
              " 'Etc/UCT',\n",
              " 'Etc/UTC',\n",
              " 'Etc/Universal',\n",
              " 'Etc/Zulu',\n",
              " 'Europe/Amsterdam',\n",
              " 'Europe/Andorra',\n",
              " 'Europe/Astrakhan',\n",
              " 'Europe/Athens',\n",
              " 'Europe/Belfast',\n",
              " 'Europe/Belgrade',\n",
              " 'Europe/Berlin',\n",
              " 'Europe/Bratislava',\n",
              " 'Europe/Brussels',\n",
              " 'Europe/Bucharest',\n",
              " 'Europe/Budapest',\n",
              " 'Europe/Busingen',\n",
              " 'Europe/Chisinau',\n",
              " 'Europe/Copenhagen',\n",
              " 'Europe/Dublin',\n",
              " 'Europe/Gibraltar',\n",
              " 'Europe/Guernsey',\n",
              " 'Europe/Helsinki',\n",
              " 'Europe/Isle_of_Man',\n",
              " 'Europe/Istanbul',\n",
              " 'Europe/Jersey',\n",
              " 'Europe/Kaliningrad',\n",
              " 'Europe/Kiev',\n",
              " 'Europe/Kirov',\n",
              " 'Europe/Lisbon',\n",
              " 'Europe/Ljubljana',\n",
              " 'Europe/London',\n",
              " 'Europe/Luxembourg',\n",
              " 'Europe/Madrid',\n",
              " 'Europe/Malta',\n",
              " 'Europe/Mariehamn',\n",
              " 'Europe/Minsk',\n",
              " 'Europe/Monaco',\n",
              " 'Europe/Moscow',\n",
              " 'Europe/Nicosia',\n",
              " 'Europe/Oslo',\n",
              " 'Europe/Paris',\n",
              " 'Europe/Podgorica',\n",
              " 'Europe/Prague',\n",
              " 'Europe/Riga',\n",
              " 'Europe/Rome',\n",
              " 'Europe/Samara',\n",
              " 'Europe/San_Marino',\n",
              " 'Europe/Sarajevo',\n",
              " 'Europe/Saratov',\n",
              " 'Europe/Simferopol',\n",
              " 'Europe/Skopje',\n",
              " 'Europe/Sofia',\n",
              " 'Europe/Stockholm',\n",
              " 'Europe/Tallinn',\n",
              " 'Europe/Tirane',\n",
              " 'Europe/Tiraspol',\n",
              " 'Europe/Ulyanovsk',\n",
              " 'Europe/Uzhgorod',\n",
              " 'Europe/Vaduz',\n",
              " 'Europe/Vatican',\n",
              " 'Europe/Vienna',\n",
              " 'Europe/Vilnius',\n",
              " 'Europe/Volgograd',\n",
              " 'Europe/Warsaw',\n",
              " 'Europe/Zagreb',\n",
              " 'Europe/Zaporozhye',\n",
              " 'Europe/Zurich',\n",
              " 'GB',\n",
              " 'GB-Eire',\n",
              " 'GMT',\n",
              " 'GMT+0',\n",
              " 'GMT-0',\n",
              " 'GMT0',\n",
              " 'Greenwich',\n",
              " 'HST',\n",
              " 'Hongkong',\n",
              " 'Iceland',\n",
              " 'Indian/Antananarivo',\n",
              " 'Indian/Chagos',\n",
              " 'Indian/Christmas',\n",
              " 'Indian/Cocos',\n",
              " 'Indian/Comoro',\n",
              " 'Indian/Kerguelen',\n",
              " 'Indian/Mahe',\n",
              " 'Indian/Maldives',\n",
              " 'Indian/Mauritius',\n",
              " 'Indian/Mayotte',\n",
              " 'Indian/Reunion',\n",
              " 'Iran',\n",
              " 'Israel',\n",
              " 'Jamaica',\n",
              " 'Japan',\n",
              " 'Kwajalein',\n",
              " 'Libya',\n",
              " 'MET',\n",
              " 'MST',\n",
              " 'MST7MDT',\n",
              " 'Mexico/BajaNorte',\n",
              " 'Mexico/BajaSur',\n",
              " 'Mexico/General',\n",
              " 'NZ',\n",
              " 'NZ-CHAT',\n",
              " 'Navajo',\n",
              " 'PRC',\n",
              " 'PST8PDT',\n",
              " 'Pacific/Apia',\n",
              " 'Pacific/Auckland',\n",
              " 'Pacific/Bougainville',\n",
              " 'Pacific/Chatham',\n",
              " 'Pacific/Chuuk',\n",
              " 'Pacific/Easter',\n",
              " 'Pacific/Efate',\n",
              " 'Pacific/Enderbury',\n",
              " 'Pacific/Fakaofo',\n",
              " 'Pacific/Fiji',\n",
              " 'Pacific/Funafuti',\n",
              " 'Pacific/Galapagos',\n",
              " 'Pacific/Gambier',\n",
              " 'Pacific/Guadalcanal',\n",
              " 'Pacific/Guam',\n",
              " 'Pacific/Honolulu',\n",
              " 'Pacific/Johnston',\n",
              " 'Pacific/Kanton',\n",
              " 'Pacific/Kiritimati',\n",
              " 'Pacific/Kosrae',\n",
              " 'Pacific/Kwajalein',\n",
              " 'Pacific/Majuro',\n",
              " 'Pacific/Marquesas',\n",
              " 'Pacific/Midway',\n",
              " 'Pacific/Nauru',\n",
              " 'Pacific/Niue',\n",
              " 'Pacific/Norfolk',\n",
              " 'Pacific/Noumea',\n",
              " 'Pacific/Pago_Pago',\n",
              " 'Pacific/Palau',\n",
              " 'Pacific/Pitcairn',\n",
              " 'Pacific/Pohnpei',\n",
              " 'Pacific/Ponape',\n",
              " 'Pacific/Port_Moresby',\n",
              " 'Pacific/Rarotonga',\n",
              " 'Pacific/Saipan',\n",
              " 'Pacific/Samoa',\n",
              " 'Pacific/Tahiti',\n",
              " 'Pacific/Tarawa',\n",
              " 'Pacific/Tongatapu',\n",
              " 'Pacific/Truk',\n",
              " 'Pacific/Wake',\n",
              " 'Pacific/Wallis',\n",
              " 'Pacific/Yap',\n",
              " 'Poland',\n",
              " 'Portugal',\n",
              " 'ROC',\n",
              " 'ROK',\n",
              " 'Singapore',\n",
              " 'Turkey',\n",
              " 'UCT',\n",
              " 'US/Alaska',\n",
              " 'US/Aleutian',\n",
              " 'US/Arizona',\n",
              " 'US/Central',\n",
              " 'US/East-Indiana',\n",
              " 'US/Eastern',\n",
              " 'US/Hawaii',\n",
              " 'US/Indiana-Starke',\n",
              " 'US/Michigan',\n",
              " 'US/Mountain',\n",
              " 'US/Pacific',\n",
              " 'US/Samoa',\n",
              " 'UTC',\n",
              " 'Universal',\n",
              " 'W-SU',\n",
              " 'WET',\n",
              " 'Zulu']"
            ]
          },
          "metadata": {},
          "execution_count": 58
        }
      ]
    }
  ],
  "metadata": {
    "colab": {
      "name": "Copy of Kadek_chatbot.ipynb",
      "provenance": [],
      "collapsed_sections": []
    },
    "interpreter": {
      "hash": "1f180c9902c79289e42d46c71793a81f467ad9cf5bddb81fabe478121971048b"
    },
    "kernelspec": {
      "display_name": "Python 3.9.7 64-bit ('tf-cpu-dl': pyenv)",
      "language": "python",
      "name": "python3"
    },
    "language_info": {
      "codemirror_mode": {
        "name": "ipython",
        "version": 3
      },
      "file_extension": ".py",
      "mimetype": "text/x-python",
      "name": "python",
      "nbconvert_exporter": "python",
      "pygments_lexer": "ipython3",
      "version": "3.9.7"
    }
  },
  "nbformat": 4,
  "nbformat_minor": 0
}